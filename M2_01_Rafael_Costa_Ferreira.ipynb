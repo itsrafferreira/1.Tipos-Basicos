{
 "cells": [
  {
   "cell_type": "markdown",
   "metadata": {},
   "source": [
    "# Exercícios Módulo 2. Tipos básicos\n",
    "\n",
    "Considerações a ter em conta: \n",
    "\n",
    "* Guardar este documento com o seguinte formato para entrega: __M2_01_nome_apelido1_apelido2__\n",
    "* Fazer os exercícios com as ferramentas vistas nas sessões. Ainda não chegámos às condicionais nem ciclos \n",
    "* Comentar o código\n",
    "* Utilizar nomes de variáveis apropriados, se vai guardar uma nota, chamar a essa variável nota, não n ou x"
   ]
  },
  {
   "cell_type": "markdown",
   "metadata": {},
   "source": [
    "## Exercícios de tipos de variáveis básicos"
   ]
  },
  {
   "cell_type": "markdown",
   "metadata": {},
   "source": [
    "**1) Identifica os tipos de dados (inteiro, real, booleano ou texto) dos seguintes valores:**\n",
    "```python \n",
    "\"Olá Mundo\"        # Texto\n",
    "True        # Booleano\n",
    "-25                 # Inteiro\n",
    "1.167               # Real\n",
    "' '                 # Texto\n",
    "```"
   ]
  },
  {
   "cell_type": "markdown",
   "metadata": {},
   "source": [
    "**2) Indica o resultado que irão mostrar os print com base a estas variáveis (sem necessidade de programar, mentalmente):**\n",
    "```python\n",
    "a = 10\n",
    "b = -5\n",
    "c =  \"Olá \"\n",
    "```\n",
    "\n",
    "```python\n",
    "print(a * 5)         # -50\n",
    "print(a - b)         # 15\n",
    "print(c + \"Mundo\")   # \"Olá Mundo\"\n",
    "print(c * 2)         # \"Olá Olá\"\n",
    "print(c[-1])         # \"\"\n",
    "print(c[1:])         # \"lá\"\n",
    "```"
   ]
  },
  {
   "cell_type": "markdown",
   "metadata": {},
   "source": [
    "**3) Armazenar 3 variáveis com 3 strings diferentes, um deles têm de ser 50 pontos (.) gerados de uma forma automática. Criar uma quarta variável que seja a concatenação dos 3 strings, unidos com um traço “-“. Finalmente mostrar esta quarta variável de forma completa e mostrando unicamente os 5 primeiros caracteres e os 5 últimos.**"
   ]
  },
  {
   "cell_type": "code",
   "execution_count": 1,
   "metadata": {},
   "outputs": [
    {
     "name": "stdout",
     "output_type": "stream",
     "text": [
      "Quarta String completa:  Primeira string contendo 50 pontos:..................................................-Segunda string contendo 50 pontos.-Última string.\n",
      "Cinco primeiros caracteres:  Prime\n",
      "Cinco últimos caracteres:  ring.\n"
     ]
    }
   ],
   "source": [
    "# Completar o exercício aqui\n",
    "\n",
    "# Armazenar três variáveis com 3 strings diferentes\n",
    "string1 = \"Primeira string contendo 50 pontos:\"  + \".\" * 50  # Gera 50 pontos de uma forma automática\n",
    "string2 = \"Segunda string contendo 50 pontos.\"\n",
    "string3 = \"Última string.\"\n",
    "\n",
    "# Criar uma quarta variável que é a concatenação (conciliação) dos 3 strings, unidos com um traço \"-\"\n",
    "quarta_string = string1 + \"-\" + string2 + \"-\" + string3\n",
    "\n",
    "# Mostrar a quarta variável completa\n",
    "print(\"Quarta String completa: \", quarta_string)\n",
    "\n",
    "# Mostrar unicamente os 5 primeiros caracteres\n",
    "primeiros_cinco = quarta_string[:5]\n",
    "print(\"Cinco primeiros caracteres: \", primeiros_cinco)\n",
    "\n",
    "# Mostrar unicamente os 5 últimos caracteres\n",
    "ultimos_cinco = quarta_string[-5:]\n",
    "print(\"Cinco últimos caracteres: \", ultimos_cinco)"
   ]
  },
  {
   "cell_type": "code",
   "execution_count": null,
   "metadata": {},
   "outputs": [],
   "source": []
  }
 ],
 "metadata": {
  "anaconda-cloud": {},
  "kernelspec": {
   "display_name": "Python 3 (ipykernel)",
   "language": "python",
   "name": "python3"
  },
  "language_info": {
   "codemirror_mode": {
    "name": "ipython",
    "version": 3
   },
   "file_extension": ".py",
   "mimetype": "text/x-python",
   "name": "python",
   "nbconvert_exporter": "python",
   "pygments_lexer": "ipython3",
   "version": "3.11.5"
  }
 },
 "nbformat": 4,
 "nbformat_minor": 1
}
